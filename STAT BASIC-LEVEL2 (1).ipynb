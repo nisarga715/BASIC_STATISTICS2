{
 "cells": [
  {
   "cell_type": "markdown",
   "id": "c4027331",
   "metadata": {},
   "source": [
    "## Estimation And Confidence Intervals"
   ]
  },
  {
   "cell_type": "markdown",
   "id": "5d03ec22",
   "metadata": {},
   "source": [
    "####  A total of 15 print-heads were randomly selected and tested until failure. The durability of each print-head (in millions of characters) was recorded as follows:1.13, 1.55, 1.43, 0.92, 1.25, 1.36, 1.32, 0.85, 1.07, 1.48, 1.20, 1.33, 1.18, 1.22, 1.29\n",
    "\n"
   ]
  },
  {
   "cell_type": "markdown",
   "id": "34c102c7",
   "metadata": {},
   "source": [
    "####  a. Build 99% Confidence Interval Using Sample Standard Deviation\n",
    "Assuming the sample is representative of the population, construct a 99% confidence interval for the mean number of characters printed before the print-head fails using the sample standard deviation. Explain the steps you take and the rationale behind using the t-distribution for this task."
   ]
  },
  {
   "cell_type": "code",
   "execution_count": 36,
   "id": "464d3a3f",
   "metadata": {},
   "outputs": [],
   "source": [
    "import numpy as np\n",
    "import pandas as pd\n",
    "import scipy.stats as stats\n",
    "from scipy.stats import t,norm"
   ]
  },
  {
   "cell_type": "code",
   "execution_count": 20,
   "id": "66d9704e",
   "metadata": {},
   "outputs": [],
   "source": [
    "data=[1.13,1.55,1.43,0.92,1.25,1.36,1.32,0.85,1.07,1.48,1.20,1.33,1.18,1.22,1.29]\n",
    "n=15\n",
    "confidence_level=0.99"
   ]
  },
  {
   "cell_type": "code",
   "execution_count": 21,
   "id": "1dc59e39",
   "metadata": {},
   "outputs": [
    {
     "data": {
      "text/plain": [
       "1.2386666666666666"
      ]
     },
     "execution_count": 21,
     "metadata": {},
     "output_type": "execute_result"
    }
   ],
   "source": [
    "# sample mean \n",
    "x_bar=np.mean(data)\n",
    "x_bar"
   ]
  },
  {
   "cell_type": "code",
   "execution_count": 22,
   "id": "1a1f82d5",
   "metadata": {},
   "outputs": [
    {
     "data": {
      "text/plain": [
       "0.19316412956959936"
      ]
     },
     "execution_count": 22,
     "metadata": {},
     "output_type": "execute_result"
    }
   ],
   "source": [
    "# sample standared deviation\n",
    "sample_std_dev=np.std(data, ddof=1)\n",
    "sample_std_dev"
   ]
  },
  {
   "cell_type": "code",
   "execution_count": 23,
   "id": "a461f0a8",
   "metadata": {},
   "outputs": [],
   "source": [
    "# degree of freedom\n",
    "df=n-1 "
   ]
  },
  {
   "cell_type": "code",
   "execution_count": 37,
   "id": "d06ff864",
   "metadata": {},
   "outputs": [
    {
     "data": {
      "text/plain": [
       "2.97684273411266"
      ]
     },
     "execution_count": 37,
     "metadata": {},
     "output_type": "execute_result"
    }
   ],
   "source": [
    "t_critical=stats.t.ppf(0.995,14) #\n",
    "t_critical"
   ]
  },
  {
   "cell_type": "code",
   "execution_count": 25,
   "id": "6a72abe3",
   "metadata": {},
   "outputs": [
    {
     "data": {
      "text/plain": [
       "0.1484693282152996"
      ]
     },
     "execution_count": 25,
     "metadata": {},
     "output_type": "execute_result"
    }
   ],
   "source": [
    "margin_of_error=t_critical*(sample_std_dev/np.sqrt(n))\n",
    "margin_of_error"
   ]
  },
  {
   "cell_type": "code",
   "execution_count": 26,
   "id": "0c2b0e32",
   "metadata": {},
   "outputs": [
    {
     "data": {
      "text/plain": [
       "(1.090197338451367, 1.3871359948819662)"
      ]
     },
     "execution_count": 26,
     "metadata": {},
     "output_type": "execute_result"
    }
   ],
   "source": [
    "confidence_interval=(x_bar-margin_of_error,x_bar+margin_of_error)\n",
    "confidence_interval"
   ]
  },
  {
   "cell_type": "markdown",
   "id": "f09f479d",
   "metadata": {},
   "source": [
    "#### b. Build 99% Confidence Interval Using Known Population Standard Deviation \n",
    "If it were known that the population standard deviation is 0.2 million characters, construct a 99% confidence interval for the mean number of characters printed before failure.\n"
   ]
  },
  {
   "cell_type": "code",
   "execution_count": 38,
   "id": "ae83ba5d",
   "metadata": {},
   "outputs": [],
   "source": [
    "# standard deviation of population\n",
    "population_std_dev=0.2 "
   ]
  },
  {
   "cell_type": "code",
   "execution_count": 40,
   "id": "f48fac6d",
   "metadata": {},
   "outputs": [
    {
     "data": {
      "text/plain": [
       "2.5758293035489004"
      ]
     },
     "execution_count": 40,
     "metadata": {},
     "output_type": "execute_result"
    }
   ],
   "source": [
    "z_critical=norm.ppf(0.995)\n",
    "z_critical"
   ]
  },
  {
   "cell_type": "code",
   "execution_count": 41,
   "id": "d888eba9",
   "metadata": {},
   "outputs": [
    {
     "data": {
      "text/plain": [
       "0.13301525327090588"
      ]
     },
     "execution_count": 41,
     "metadata": {},
     "output_type": "execute_result"
    }
   ],
   "source": [
    "margin_of_error_known_sigma=z_critical*(population_std_dev/np.sqrt(n))\n",
    "margin_of_error_known_sigma"
   ]
  },
  {
   "cell_type": "code",
   "execution_count": 43,
   "id": "e3999cc2",
   "metadata": {},
   "outputs": [
    {
     "data": {
      "text/plain": [
       "(1.1056514133957607, 1.3716819199375725)"
      ]
     },
     "execution_count": 43,
     "metadata": {},
     "output_type": "execute_result"
    }
   ],
   "source": [
    "confidence_interval_known_sigma=(x_bar-margin_of_error_known_sigma,x_bar+margin_of_error_known_sigma)\n",
    "confidence_interval_known_sigma"
   ]
  }
 ],
 "metadata": {
  "kernelspec": {
   "display_name": "Python 3 (ipykernel)",
   "language": "python",
   "name": "python3"
  },
  "language_info": {
   "codemirror_mode": {
    "name": "ipython",
    "version": 3
   },
   "file_extension": ".py",
   "mimetype": "text/x-python",
   "name": "python",
   "nbconvert_exporter": "python",
   "pygments_lexer": "ipython3",
   "version": "3.11.4"
  }
 },
 "nbformat": 4,
 "nbformat_minor": 5
}
